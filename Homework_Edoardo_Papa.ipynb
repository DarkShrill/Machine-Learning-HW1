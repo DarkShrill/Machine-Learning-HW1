{
  "nbformat": 4,
  "nbformat_minor": 0,
  "metadata": {
    "accelerator": "GPU",
    "colab": {
      "name": "Homework_Edoardo_Papa",
      "provenance": [],
      "collapsed_sections": [],
      "toc_visible": true
    },
    "kernelspec": {
      "display_name": "Python 3",
      "name": "python3"
    }
  },
  "cells": [
    {
      "cell_type": "markdown",
      "metadata": {
        "id": "GXXPzoUdMps0"
      },
      "source": [
        "#Import All Libraries"
      ]
    },
    {
      "cell_type": "code",
      "metadata": {
        "colab": {
          "base_uri": "https://localhost:8080/"
        },
        "id": "EK0EtV7eMz_X",
        "outputId": "05356c0f-e8fc-4101-88c2-46a0540a8de4"
      },
      "source": [
        "import pandas as pd\n",
        "import numpy as np\n",
        "\n",
        "from sklearn import svm\n",
        "from sklearn.model_selection import train_test_split,cross_val_score, ShuffleSplit, GridSearchCV\n",
        "from sklearn.feature_extraction.text import *\n",
        "from sklearn.linear_model import LogisticRegression\n",
        "from sklearn.ensemble import RandomForestClassifier\n",
        "from sklearn.metrics import confusion_matrix, classification_report\n",
        "from sklearn.naive_bayes import *\n",
        "import matplotlib.pyplot as pl\n",
        "from mlxtend.plotting import plot_confusion_matrix\n",
        "from mlxtend.evaluate import confusion_matrix\n",
        "import matplotlib.pyplot as plt\n",
        "\n",
        "print(\"All Library are imported correctly!\")"
      ],
      "execution_count": 1,
      "outputs": [
        {
          "output_type": "stream",
          "text": [
            "All Library are imported correctly!\n"
          ],
          "name": "stdout"
        }
      ]
    },
    {
      "cell_type": "markdown",
      "metadata": {
        "id": "umTdmfxqM4G_"
      },
      "source": [
        "# Load Data"
      ]
    },
    {
      "cell_type": "markdown",
      "metadata": {
        "id": "6hEJZLw6M9YK"
      },
      "source": [
        "Mounted All Data from Google Drive"
      ]
    },
    {
      "cell_type": "code",
      "metadata": {
        "colab": {
          "base_uri": "https://localhost:8080/"
        },
        "id": "xanTDjyZNCb0",
        "outputId": "386347a3-b1b8-4005-df5a-d8d9edfffcb1"
      },
      "source": [
        "from google.colab import drive\n",
        "drive.mount('/content/drive')"
      ],
      "execution_count": 2,
      "outputs": [
        {
          "output_type": "stream",
          "text": [
            "Drive already mounted at /content/drive; to attempt to forcibly remount, call drive.mount(\"/content/drive\", force_remount=True).\n"
          ],
          "name": "stdout"
        }
      ]
    },
    {
      "cell_type": "markdown",
      "metadata": {
        "id": "tatnLt1RQjsI"
      },
      "source": [
        "execute ls into the driver folder"
      ]
    },
    {
      "cell_type": "code",
      "metadata": {
        "colab": {
          "base_uri": "https://localhost:8080/"
        },
        "id": "-DSPleuHQn_m",
        "outputId": "ec8cad96-2083-4081-a7a2-d09a15a26f33"
      },
      "source": [
        "%ls"
      ],
      "execution_count": 3,
      "outputs": [
        {
          "output_type": "stream",
          "text": [
            "\u001b[0m\u001b[01;34mdrive\u001b[0m/  \u001b[01;34msample_data\u001b[0m/\n"
          ],
          "name": "stdout"
        }
      ]
    },
    {
      "cell_type": "markdown",
      "metadata": {
        "id": "_4sAUkzTNG3F"
      },
      "source": [
        "Read the file \"dataset.json\" or \"noduplicatedataset.json\" from my Google Drive"
      ]
    },
    {
      "cell_type": "code",
      "metadata": {
        "id": "MmFGFszcNkam"
      },
      "source": [
        "filename= '/content/drive/My Drive/noduplicatedataset.json'\n",
        "# filename= '/content/drive/My Drive/dataset.json'\n",
        "data = pd.read_json(filename, lines=True)"
      ],
      "execution_count": 3,
      "outputs": []
    },
    {
      "cell_type": "code",
      "metadata": {
        "colab": {
          "base_uri": "https://localhost:8080/",
          "height": 497
        },
        "id": "pDcGc9SiG4tD",
        "outputId": "7086b37a-1eb0-4f02-8136-bde2eedecf08"
      },
      "source": [
        "print(\"----> Print a dataset <----\\n\\n\\n\")\n",
        "data"
      ],
      "execution_count": 4,
      "outputs": [
        {
          "output_type": "stream",
          "text": [
            "----> Print a dataset <----\n",
            "\n",
            "\n",
            "\n"
          ],
          "name": "stdout"
        },
        {
          "output_type": "execute_result",
          "data": {
            "text/html": [
              "<div>\n",
              "<style scoped>\n",
              "    .dataframe tbody tr th:only-of-type {\n",
              "        vertical-align: middle;\n",
              "    }\n",
              "\n",
              "    .dataframe tbody tr th {\n",
              "        vertical-align: top;\n",
              "    }\n",
              "\n",
              "    .dataframe thead th {\n",
              "        text-align: right;\n",
              "    }\n",
              "</style>\n",
              "<table border=\"1\" class=\"dataframe\">\n",
              "  <thead>\n",
              "    <tr style=\"text-align: right;\">\n",
              "      <th></th>\n",
              "      <th>id</th>\n",
              "      <th>semantic</th>\n",
              "      <th>lista_asm</th>\n",
              "      <th>cfg</th>\n",
              "    </tr>\n",
              "  </thead>\n",
              "  <tbody>\n",
              "    <tr>\n",
              "      <th>0</th>\n",
              "      <td>828</td>\n",
              "      <td>string</td>\n",
              "      <td>['jmp qword ptr [rip + 0x220882]', 'jmp qword ...</td>\n",
              "      <td>{'directed': True, 'graph': [], 'nodes': [{'id...</td>\n",
              "    </tr>\n",
              "    <tr>\n",
              "      <th>1</th>\n",
              "      <td>11786</td>\n",
              "      <td>math</td>\n",
              "      <td>['ucomisd xmm2, xmm2', 'jp 0x40', 'ucomisd xmm...</td>\n",
              "      <td>{'directed': True, 'graph': [], 'nodes': [{'id...</td>\n",
              "    </tr>\n",
              "    <tr>\n",
              "      <th>2</th>\n",
              "      <td>12621</td>\n",
              "      <td>encryption</td>\n",
              "      <td>['push rbx', 'mov r8d, ecx', 'mov qword ptr [r...</td>\n",
              "      <td>{'directed': True, 'graph': [], 'nodes': [{'id...</td>\n",
              "    </tr>\n",
              "    <tr>\n",
              "      <th>3</th>\n",
              "      <td>11166</td>\n",
              "      <td>math</td>\n",
              "      <td>['mov qword ptr [rsp - 0x10], rbx', 'mov qword...</td>\n",
              "      <td>{'directed': True, 'graph': [], 'nodes': [{'id...</td>\n",
              "    </tr>\n",
              "    <tr>\n",
              "      <th>4</th>\n",
              "      <td>10432</td>\n",
              "      <td>sort</td>\n",
              "      <td>['jmp qword ptr [rip + 0x200ba2]', 'jmp qword ...</td>\n",
              "      <td>{'directed': True, 'graph': [], 'nodes': [{'id...</td>\n",
              "    </tr>\n",
              "    <tr>\n",
              "      <th>...</th>\n",
              "      <td>...</td>\n",
              "      <td>...</td>\n",
              "      <td>...</td>\n",
              "      <td>...</td>\n",
              "    </tr>\n",
              "    <tr>\n",
              "      <th>6068</th>\n",
              "      <td>12484</td>\n",
              "      <td>math</td>\n",
              "      <td>['push rbp', 'mov rbp, rsp', 'sub rsp, 0x50', ...</td>\n",
              "      <td>{'directed': True, 'graph': [], 'nodes': [{'id...</td>\n",
              "    </tr>\n",
              "    <tr>\n",
              "      <th>6069</th>\n",
              "      <td>7809</td>\n",
              "      <td>sort</td>\n",
              "      <td>['push r15', 'push r14', 'push r13', 'push r12...</td>\n",
              "      <td>{'directed': True, 'graph': [], 'nodes': [{'id...</td>\n",
              "    </tr>\n",
              "    <tr>\n",
              "      <th>6070</th>\n",
              "      <td>9806</td>\n",
              "      <td>encryption</td>\n",
              "      <td>['test rdx, rdx', 'push rbx', 'je 0x115', 'tes...</td>\n",
              "      <td>{'directed': True, 'graph': [], 'nodes': [{'id...</td>\n",
              "    </tr>\n",
              "    <tr>\n",
              "      <th>6071</th>\n",
              "      <td>421</td>\n",
              "      <td>math</td>\n",
              "      <td>['push rbp', 'mov rbp, rsp', 'sub rsp, 0x50', ...</td>\n",
              "      <td>{'directed': True, 'graph': [], 'nodes': [{'id...</td>\n",
              "    </tr>\n",
              "    <tr>\n",
              "      <th>6072</th>\n",
              "      <td>2008</td>\n",
              "      <td>sort</td>\n",
              "      <td>['push rbp', 'push r15', 'push r14', 'push r13...</td>\n",
              "      <td>{'directed': True, 'graph': [], 'nodes': [{'id...</td>\n",
              "    </tr>\n",
              "  </tbody>\n",
              "</table>\n",
              "<p>6073 rows × 4 columns</p>\n",
              "</div>"
            ],
            "text/plain": [
              "         id  ...                                                cfg\n",
              "0       828  ...  {'directed': True, 'graph': [], 'nodes': [{'id...\n",
              "1     11786  ...  {'directed': True, 'graph': [], 'nodes': [{'id...\n",
              "2     12621  ...  {'directed': True, 'graph': [], 'nodes': [{'id...\n",
              "3     11166  ...  {'directed': True, 'graph': [], 'nodes': [{'id...\n",
              "4     10432  ...  {'directed': True, 'graph': [], 'nodes': [{'id...\n",
              "...     ...  ...                                                ...\n",
              "6068  12484  ...  {'directed': True, 'graph': [], 'nodes': [{'id...\n",
              "6069   7809  ...  {'directed': True, 'graph': [], 'nodes': [{'id...\n",
              "6070   9806  ...  {'directed': True, 'graph': [], 'nodes': [{'id...\n",
              "6071    421  ...  {'directed': True, 'graph': [], 'nodes': [{'id...\n",
              "6072   2008  ...  {'directed': True, 'graph': [], 'nodes': [{'id...\n",
              "\n",
              "[6073 rows x 4 columns]"
            ]
          },
          "metadata": {
            "tags": []
          },
          "execution_count": 4
        }
      ]
    },
    {
      "cell_type": "markdown",
      "metadata": {
        "id": "WsqeU0qqTe5I"
      },
      "source": [
        "##Vectorizer Data"
      ]
    },
    {
      "cell_type": "code",
      "metadata": {
        "colab": {
          "base_uri": "https://localhost:8080/"
        },
        "id": "UzqxvP3wX-2P",
        "outputId": "19a23b4b-9f06-4d13-ea1c-05b10d3a0055"
      },
      "source": [
        "method_to_use_for_vectorization = \"TfidfVectorizer\"\n",
        "#method_to_use_for_vectorization = \"CountVectorizer\"\n",
        "#method_to_use_for_vectorization = \"HashingVectorizer\"\n",
        "\n",
        "if (method_to_use_for_vectorization == \"TfidfVectorizer\"):\n",
        "  print(\"You choose TfidfVectorizer!\")\n",
        "  vectorizer = TfidfVectorizer(ngram_range=(1,4))\n",
        "elif (method_to_use_for_vectorization == \"CountVectorizer\"):\n",
        "  print(\"You choose CountVectorizer!\")\n",
        "  vectorizer = CountVectorizer()\n",
        "elif (method_to_use_for_vectorization == \"HashingVectorizer\"):\n",
        "  print(\"You choose HashingVectorizer!\")\n",
        "  vectorizer = HashingVectorizer()\n",
        "else :\n",
        "  print(\"!!!   AN ERROR WAS OCCURRED   !!!!\")\n"
      ],
      "execution_count": 5,
      "outputs": [
        {
          "output_type": "stream",
          "text": [
            "You choose TfidfVectorizer!\n"
          ],
          "name": "stdout"
        }
      ]
    },
    {
      "cell_type": "markdown",
      "metadata": {
        "id": "7G_ASqZ9Z3kn"
      },
      "source": [
        "With function ***vectorizer.fit_transform(data.lista_asm)*** the vectorizer learn vocabulary (lista_asm) and IDF, return term-document matrix.\n"
      ]
    },
    {
      "cell_type": "code",
      "metadata": {
        "id": "GDEksI27Z5YA"
      },
      "source": [
        "X_all = vectorizer.fit_transform(data.lista_asm)\n",
        "y_all = data.semantic"
      ],
      "execution_count": 6,
      "outputs": []
    },
    {
      "cell_type": "markdown",
      "metadata": {
        "id": "kM-VcKS4chJA"
      },
      "source": [
        "#Split Data"
      ]
    },
    {
      "cell_type": "markdown",
      "metadata": {
        "id": "g1xhkSZUc3U2"
      },
      "source": [
        "In this exercise we want to consider the output as semantic, y_all= data.semantic, so we take column of dataset labeled semantic\n",
        "\n",
        "We use a function train_test_split to create 4 sets:\n",
        "\n",
        "*   2 for training (data + label)\n",
        "*   2 for test (data + label)\n",
        "\n",
        "We use it to choose the size of our training set, because with it we can predict new instances that we want to classify.\n"
      ]
    },
    {
      "cell_type": "code",
      "metadata": {
        "id": "MX7LPe5tclUz"
      },
      "source": [
        "X_train, X_test, y_train, y_test = train_test_split(X_all, y_all, test_size=0.3333, random_state=15)"
      ],
      "execution_count": 7,
      "outputs": []
    },
    {
      "cell_type": "markdown",
      "metadata": {
        "id": "nKj-VJqLeMEI"
      },
      "source": [
        "#Create a model"
      ]
    },
    {
      "cell_type": "markdown",
      "metadata": {
        "id": "2WOGB3bvk-K0"
      },
      "source": [
        "Down here we find a different type of model."
      ]
    },
    {
      "cell_type": "markdown",
      "metadata": {
        "id": "dFkZQyBnlL5D"
      },
      "source": [
        "**Bernoulli Model**"
      ]
    },
    {
      "cell_type": "code",
      "metadata": {
        "colab": {
          "base_uri": "https://localhost:8080/"
        },
        "id": "srdTa4qllO7O",
        "outputId": "41ea36f6-f0df-4c08-c6ea-1195412c7b00"
      },
      "source": [
        "model = BernoulliNB(alpha=1)\n",
        "model.fit(X_train, y_train)\n",
        "\n",
        "print(\"---->   Bernoulli Model was created   <----\")"
      ],
      "execution_count": null,
      "outputs": [
        {
          "output_type": "stream",
          "text": [
            "---->   Bernoulli Model was created   <----\n"
          ],
          "name": "stdout"
        }
      ]
    },
    {
      "cell_type": "markdown",
      "metadata": {
        "id": "LjQ2PsLYmY2E"
      },
      "source": [
        "**LogisticRegression Model**"
      ]
    },
    {
      "cell_type": "code",
      "metadata": {
        "colab": {
          "base_uri": "https://localhost:8080/"
        },
        "id": "PSVSOCPdJ7QI",
        "outputId": "9a5df08e-5f9a-42a0-d2a5-d189af28449f"
      },
      "source": [
        "model=LogisticRegression(penalty='l1', solver='saga',max_iter=10000)\n",
        "model.fit(X_train, y_train)\n",
        "print(\"---->   LogisticRegression Model was created   <----\")"
      ],
      "execution_count": 8,
      "outputs": [
        {
          "output_type": "stream",
          "text": [
            "---->   LogisticRegression Model was created   <----\n"
          ],
          "name": "stdout"
        }
      ]
    },
    {
      "cell_type": "markdown",
      "metadata": {
        "id": "vNpILFiLYXVE"
      },
      "source": [
        "**Multinomial Model**"
      ]
    },
    {
      "cell_type": "code",
      "metadata": {
        "colab": {
          "base_uri": "https://localhost:8080/"
        },
        "id": "BkNEaEH4YZgr",
        "outputId": "c952868d-c17c-4e84-e333-f4435f62cc51"
      },
      "source": [
        "model = MultinomialNB(alpha=1.0)\n",
        "model.fit(X_train, y_train)\n",
        "print(\"---->   Multinomial Model created   <----\")"
      ],
      "execution_count": null,
      "outputs": [
        {
          "output_type": "stream",
          "text": [
            "---->   Multinomial Model created   <----\n"
          ],
          "name": "stdout"
        }
      ]
    },
    {
      "cell_type": "markdown",
      "metadata": {
        "id": "cQkXp5s4D3IN"
      },
      "source": [
        "**SVM Linear Kernel Model**"
      ]
    },
    {
      "cell_type": "code",
      "metadata": {
        "colab": {
          "base_uri": "https://localhost:8080/"
        },
        "id": "Cm7r_oeWEiNz",
        "outputId": "ab92e814-62a4-40b4-b43a-bf028fb56f33"
      },
      "source": [
        "model = svm.SVC(C=1.0,kernel='linear', gamma='scale')\n",
        "model.fit(X_train, y_train)\n",
        "print(\"---->   SVM Linear Kernel Model was created   <----\")"
      ],
      "execution_count": null,
      "outputs": [
        {
          "output_type": "stream",
          "text": [
            "---->   SVM Linear Kernel Model was created   <----\n"
          ],
          "name": "stdout"
        }
      ]
    },
    {
      "cell_type": "markdown",
      "metadata": {
        "id": "6ijZG26mF0yY"
      },
      "source": [
        "#Evaluation"
      ]
    },
    {
      "cell_type": "markdown",
      "metadata": {
        "id": "OhcyGWNkmG-Q"
      },
      "source": [
        "##Test Set"
      ]
    },
    {
      "cell_type": "code",
      "metadata": {
        "id": "6lLsX29NGduo"
      },
      "source": [
        "y_pred = model.predict(X_test)"
      ],
      "execution_count": 9,
      "outputs": []
    },
    {
      "cell_type": "markdown",
      "metadata": {
        "id": "1f4bX-IuG2OB"
      },
      "source": [
        "Plot the result"
      ]
    },
    {
      "cell_type": "code",
      "metadata": {
        "id": "Y3iogcKfG4Fw",
        "colab": {
          "base_uri": "https://localhost:8080/",
          "height": 481
        },
        "outputId": "8aad8318-aa82-4a90-ab3d-2b3dc12adea5"
      },
      "source": [
        "cm = confusion_matrix(y_test,y_pred)\n",
        "fig, ax = plot_confusion_matrix(conf_mat=cm,colorbar=True,show_absolute=True,show_normed=True)\n",
        "print(classification_report(y_test, y_pred))\n"
      ],
      "execution_count": 10,
      "outputs": [
        {
          "output_type": "stream",
          "text": [
            "              precision    recall  f1-score   support\n",
            "\n",
            "  encryption       0.99      0.94      0.96       396\n",
            "        math       0.99      0.98      0.99       778\n",
            "        sort       0.84      0.90      0.87       173\n",
            "      string       0.97      0.99      0.98       678\n",
            "\n",
            "    accuracy                           0.97      2025\n",
            "   macro avg       0.95      0.95      0.95      2025\n",
            "weighted avg       0.97      0.97      0.97      2025\n",
            "\n"
          ],
          "name": "stdout"
        },
        {
          "output_type": "display_data",
          "data": {
            "image/png": "[encoded data removed]",
            "text/plain": [
              "<Figure size 432x288 with 2 Axes>"
            ]
          },
          "metadata": {
            "tags": [],
            "needs_background": "light"
          }
        }
      ]
    },
    {
      "cell_type": "markdown",
      "metadata": {
        "id": "gicYuIATmMfi"
      },
      "source": [
        "##Train Set"
      ]
    },
    {
      "cell_type": "code",
      "metadata": {
        "id": "-0x8yXw9mSov"
      },
      "source": [
        "y_pred_train = model.predict(X_train)"
      ],
      "execution_count": 11,
      "outputs": []
    },
    {
      "cell_type": "markdown",
      "metadata": {
        "id": "MvsQTI2rmV4i"
      },
      "source": [
        "Plot Result"
      ]
    },
    {
      "cell_type": "code",
      "metadata": {
        "id": "BTXJQyBLmXOh",
        "colab": {
          "base_uri": "https://localhost:8080/",
          "height": 483
        },
        "outputId": "39502cf7-a0d7-4d9d-a33f-b88d6c7eb1c9"
      },
      "source": [
        "cm_train = confusion_matrix(y_train,y_pred_train)\n",
        "fig_train, ax_train = plot_confusion_matrix(conf_mat=cm_train,colorbar=True,show_absolute=True,show_normed=True)\n",
        "print(classification_report(y_train, y_pred_train))"
      ],
      "execution_count": 12,
      "outputs": [
        {
          "output_type": "stream",
          "text": [
            "              precision    recall  f1-score   support\n",
            "\n",
            "  encryption       0.98      0.95      0.97       714\n",
            "        math       0.99      0.99      0.99      1634\n",
            "        sort       0.91      0.93      0.92       364\n",
            "      string       0.98      1.00      0.99      1336\n",
            "\n",
            "    accuracy                           0.98      4048\n",
            "   macro avg       0.97      0.97      0.97      4048\n",
            "weighted avg       0.98      0.98      0.98      4048\n",
            "\n"
          ],
          "name": "stdout"
        },
        {
          "output_type": "display_data",
          "data": {
            "image/png": "[encoded data removed]",
            "text/plain": [
              "<Figure size 432x288 with 2 Axes>"
            ]
          },
          "metadata": {
            "tags": [],
            "needs_background": "light"
          }
        }
      ]
    },
    {
      "cell_type": "markdown",
      "metadata": {
        "id": "dcBYRpbEbOaM"
      },
      "source": [
        "#Networkx"
      ]
    },
    {
      "cell_type": "markdown",
      "metadata": {
        "id": "UH4QZlG6QrLb"
      },
      "source": [
        "---\n",
        "WARNING!\n",
        "\n",
        "\n",
        "This part is made only for a personal scope. It could not work.\n",
        "\n",
        "---"
      ]
    },
    {
      "cell_type": "code",
      "metadata": {
        "id": "QCLwuLRCbSSV"
      },
      "source": [
        "import json\n",
        "import networkx as nx\n",
        "from sklearn.feature_extraction.text import TfidfVectorizer\n",
        "from networkx import json_graph\n",
        "\n",
        "NumberOfLoops = []\n",
        "ComplexyList = []\n",
        "SimpleNumberCyrcleList = []\n",
        "DiameterList = []\n",
        "Instruction = []\n",
        "string\n",
        "def complexity(G):\n",
        "    edges = len(G.edges())\n",
        "    nodes = len(G.nodes())\n",
        "    parts = nx.components.number_strongly_connected_components(G)\n",
        "    return edges - nodes + parts\n",
        "\n",
        "def convert_list_to_string(org_list, seperator=' '):\n",
        "    return seperator.join(org_list)\n",
        "\n",
        "with open(\"/content/drive/My Drive/noduplicatedataset.json\",'r') as f:\n",
        "    lines = f.readlines()\n",
        "    countItem = 0\n",
        "    NoneCount = 0\n",
        "    n_cycles = 0\n",
        "    vectorizer = TfidfVectorizer(max_features=50000, use_idf=True,min_df = 1,lowercase = False, stop_words='english',ngram_range=(1,4),token_pattern=r'(?u)\\b[A-Za-z]+\\b')\n",
        "    instructionList = []\n",
        "\n",
        "    for item in lines:\n",
        "        d = json.loads(item)\n",
        "        nx_graph = json_graph.adjacency_graph(d['cfg'])\n",
        "\n",
        "        n_edges = nx_graph.number_of_edges()\n",
        "        n_nodes = nx_graph.number_of_nodes()\n",
        "\n",
        "        try:\n",
        "          cycles = nx.find_cycle(nx_graph)\n",
        "          n_cycles = len(cycles)\n",
        "        except nx.NetworkXNoCycle as e:\n",
        "          pass\n",
        "\n",
        "        #print(\"--->  Number of loops = \")\n",
        "        #print(n_cycles)\n",
        "\n",
        "        #print(\"--->  Complexy = \")\n",
        "        #print(complexity(nx_graph))\n",
        "        ComplexyList.append(complexity(nx_graph))\n",
        "        count = 0\n",
        "        for i,n in nx_graph.nodes(data=True):\n",
        "          \n",
        "          label = n['label']\n",
        "          \n",
        "          if (label == None):\n",
        "            NoneCount += 1\n",
        "            continue\n",
        "\n",
        "          #print(label)\n",
        "          # label = map(lambda s: s.strip(), label)\n",
        "          count += 1\n",
        "          try:\n",
        "            X = vectorizer.fit_transform([label])\n",
        "          except ValueError as e:\n",
        "            pass\n",
        "          feature_names = vectorizer.get_feature_names() \n",
        "\n",
        "          instructionList.append(feature_names)\n",
        "\n",
        "        for i in range(count):\n",
        "          string+=convert_list_to_string(instructionList[i])\n",
        "\n",
        "        instructionList = []\n",
        "        Instruction.append(string)\n",
        "        string = \"\"\n",
        "        # if (count == n_nodes):\n",
        "        #   print(\"CORRECT\")\n",
        "\n",
        "        # print(\"COUNT ITEM : \")\n",
        "        # print(countItem)\n",
        "\n",
        "        countItem += 1\n"
      ],
      "execution_count": 24,
      "outputs": []
    },
    {
      "cell_type": "code",
      "metadata": {
        "id": "XuNSZaUN6za9"
      },
      "source": [
        "\n",
        "y_all = data.semantic\n",
        "X_train, X_test, y_train, y_test = train_test_split(X, y_all, test_size=0.33, random_state=8)\n",
        "\n",
        "model=LogisticRegression(penalty='l1', solver='saga',max_iter=10000)\n",
        "model.fit(X_train, y_train)\n",
        "\n",
        "\n",
        "y_pred = model.predict(X_test)\n",
        "\n",
        "cm = confusion_matrix(y_test,y_pred)\n",
        "fig, ax = plot_confusion_matrix(conf_mat=cm,colorbar=True,show_absolute=True,show_normed=True)\n",
        "print(classification_report(y_test, y_pred))\n"
      ],
      "execution_count": null,
      "outputs": []
    },
    {
      "cell_type": "markdown",
      "metadata": {
        "id": "JOY-5IN9cOd-"
      },
      "source": [
        "#Blind"
      ]
    },
    {
      "cell_type": "markdown",
      "metadata": {
        "id": "Rr6LpDSOc2TP"
      },
      "source": [
        "The blind test contains the input data to classify with a model that i have choose for prededict a *semantic*"
      ]
    },
    {
      "cell_type": "code",
      "metadata": {
        "id": "b7P57QIxcRVe"
      },
      "source": [
        "filename_new= '/content/drive/My Drive/blindtest.json'\n",
        "data_new = pd.read_json(filename_new, lines=True)"
      ],
      "execution_count": 13,
      "outputs": []
    },
    {
      "cell_type": "markdown",
      "metadata": {
        "id": "mWju9P9JegD_"
      },
      "source": [
        "In this case we use trasform instruction of vectorizer only because we don't want learn vocabulary but we want only that it transforms instructions.\n",
        "\n",
        "And after make predictions using model.\n"
      ]
    },
    {
      "cell_type": "code",
      "metadata": {
        "id": "6FnShCFzgb2X"
      },
      "source": [
        "X_all_to_predict=vectorizer.transform(data_new.lista_asm)\n",
        "y_pred_new= model.predict(X_all_to_predict)"
      ],
      "execution_count": 14,
      "outputs": []
    },
    {
      "cell_type": "markdown",
      "metadata": {
        "id": "4FFNMDXrfMbO"
      },
      "source": [
        "Now we want to creare TXT file, so we write in this file in such way we can obtain for each line only the prediction like:\n",
        "\n",
        "*   *Encryption*;\n",
        "*   *String Manipulation*;\n",
        "*   *Math*;\n",
        "*   *Sorting*.\n",
        "\n"
      ]
    },
    {
      "cell_type": "code",
      "metadata": {
        "colab": {
          "base_uri": "https://localhost:8080/"
        },
        "id": "1cscLvKVg1FB",
        "outputId": "c8174f39-0ef9-4b46-ffb9-dbe8e4812458"
      },
      "source": [
        "y_pred_new"
      ],
      "execution_count": 15,
      "outputs": [
        {
          "output_type": "execute_result",
          "data": {
            "text/plain": [
              "array(['encryption', 'math', 'string', 'string', 'math', 'string', 'sort',\n",
              "       'sort', 'sort', 'math', 'math', 'math', 'sort', 'encryption',\n",
              "       'encryption', 'math', 'string', 'string', 'math', 'math', 'math',\n",
              "       'string', 'encryption', 'math', 'encryption', 'string', 'string',\n",
              "       'math', 'math', 'sort', 'string', 'sort', 'encryption',\n",
              "       'encryption', 'string', 'sort', 'string', 'math', 'sort', 'string',\n",
              "       'string', 'math', 'sort', 'math', 'sort', 'sort', 'sort', 'string',\n",
              "       'string', 'string', 'sort', 'math', 'math', 'string', 'math',\n",
              "       'string', 'math', 'math', 'math', 'math', 'encryption', 'sort',\n",
              "       'math', 'string', 'string', 'sort', 'math', 'string', 'sort',\n",
              "       'sort', 'encryption', 'sort', 'string', 'sort', 'math', 'sort',\n",
              "       'sort', 'sort', 'sort', 'sort', 'encryption', 'encryption', 'math',\n",
              "       'sort', 'string', 'math', 'string', 'math', 'encryption', 'math',\n",
              "       'string', 'string', 'string', 'sort', 'sort', 'string', 'math',\n",
              "       'encryption', 'encryption', 'encryption', 'math', 'sort', 'sort',\n",
              "       'string', 'encryption', 'math', 'math', 'math', 'math', 'string',\n",
              "       'encryption', 'string', 'sort', 'string', 'string', 'string',\n",
              "       'math', 'sort', 'sort', 'string', 'encryption', 'math', 'math',\n",
              "       'encryption', 'math', 'encryption', 'math', 'string', 'sort',\n",
              "       'encryption', 'encryption', 'string', 'sort', 'sort', 'string',\n",
              "       'sort', 'math', 'string', 'encryption', 'math', 'math',\n",
              "       'encryption', 'math', 'math', 'sort', 'encryption', 'math', 'sort',\n",
              "       'encryption', 'math', 'math', 'math', 'string', 'string',\n",
              "       'encryption', 'string', 'string', 'math', 'string', 'sort', 'math',\n",
              "       'string', 'math', 'string', 'encryption', 'string', 'sort',\n",
              "       'string', 'encryption', 'encryption', 'math', 'sort', 'sort',\n",
              "       'sort', 'math', 'sort', 'encryption', 'string', 'sort', 'math',\n",
              "       'sort', 'string', 'encryption', 'math', 'math', 'math', 'math',\n",
              "       'math', 'sort', 'math', 'sort', 'encryption', 'math', 'sort',\n",
              "       'string', 'sort', 'string', 'sort', 'string', 'encryption', 'sort',\n",
              "       'encryption', 'math', 'encryption', 'string', 'sort', 'sort',\n",
              "       'sort', 'sort', 'string', 'sort', 'sort', 'math', 'math', 'string',\n",
              "       'string', 'string', 'math', 'math', 'math', 'math', 'sort', 'sort',\n",
              "       'math', 'sort', 'sort', 'math', 'encryption', 'encryption',\n",
              "       'encryption', 'math', 'sort', 'sort', 'sort', 'encryption',\n",
              "       'string', 'encryption', 'sort', 'sort', 'math', 'sort',\n",
              "       'encryption', 'encryption', 'string', 'sort', 'math', 'math',\n",
              "       'math', 'sort', 'math', 'string', 'sort', 'encryption',\n",
              "       'encryption', 'sort', 'string', 'sort', 'string', 'string', 'sort',\n",
              "       'encryption', 'string', 'string', 'sort', 'math', 'string', 'math',\n",
              "       'encryption', 'string', 'string', 'sort', 'sort', 'string', 'math',\n",
              "       'math', 'string', 'string', 'sort', 'string', 'sort', 'math',\n",
              "       'sort', 'math', 'string', 'string', 'math', 'string', 'encryption',\n",
              "       'sort', 'math', 'sort', 'string', 'math', 'encryption', 'sort',\n",
              "       'math', 'string', 'sort', 'sort', 'math', 'string', 'math', 'math',\n",
              "       'math', 'sort', 'sort', 'string', 'string', 'string', 'math',\n",
              "       'string', 'sort', 'math', 'string', 'string', 'encryption',\n",
              "       'string', 'sort', 'string', 'math', 'string', 'encryption', 'math',\n",
              "       'math', 'string', 'string', 'string', 'sort', 'math', 'string',\n",
              "       'math', 'math', 'sort', 'sort', 'sort', 'sort', 'math', 'sort',\n",
              "       'math', 'string', 'sort', 'string', 'string', 'sort', 'math',\n",
              "       'string', 'math', 'sort', 'encryption', 'sort', 'sort', 'string',\n",
              "       'sort', 'math', 'sort', 'math', 'encryption', 'math', 'math',\n",
              "       'string', 'math', 'math', 'math', 'encryption', 'math',\n",
              "       'encryption', 'sort', 'math', 'sort', 'math', 'sort', 'encryption',\n",
              "       'math', 'math', 'string', 'encryption', 'encryption', 'sort',\n",
              "       'sort', 'math', 'math', 'encryption', 'math', 'math', 'string',\n",
              "       'encryption', 'math', 'encryption', 'string', 'sort', 'sort',\n",
              "       'sort', 'sort', 'sort', 'string', 'encryption', 'encryption',\n",
              "       'encryption', 'math', 'math', 'sort', 'sort', 'string', 'sort',\n",
              "       'string', 'sort', 'math', 'string', 'math', 'math', 'encryption',\n",
              "       'sort', 'string', 'string', 'string', 'math', 'string', 'string',\n",
              "       'math', 'string', 'sort', 'sort', 'sort', 'string', 'math', 'sort',\n",
              "       'math', 'math', 'sort', 'encryption', 'string', 'sort',\n",
              "       'encryption', 'encryption', 'math', 'math', 'encryption', 'math',\n",
              "       'math', 'math', 'encryption', 'sort', 'sort', 'sort', 'encryption',\n",
              "       'string', 'math', 'sort', 'math', 'encryption', 'string', 'math',\n",
              "       'encryption', 'math', 'encryption', 'string', 'string',\n",
              "       'encryption', 'string', 'math', 'math', 'string', 'string', 'sort',\n",
              "       'math', 'string', 'encryption', 'math', 'string', 'sort', 'math',\n",
              "       'sort', 'math', 'string', 'string', 'encryption', 'math', 'math',\n",
              "       'sort', 'string', 'encryption', 'sort', 'sort', 'encryption',\n",
              "       'math', 'string', 'string', 'encryption', 'string', 'math', 'math',\n",
              "       'sort', 'string', 'string', 'sort', 'sort', 'sort', 'sort', 'sort',\n",
              "       'string', 'math', 'sort', 'string', 'math', 'sort', 'string',\n",
              "       'string', 'sort', 'string', 'math', 'encryption', 'math',\n",
              "       'encryption', 'sort', 'encryption', 'string', 'math', 'string',\n",
              "       'sort', 'sort', 'sort', 'math', 'sort', 'sort', 'string', 'string',\n",
              "       'math', 'math', 'string', 'math', 'encryption', 'string', 'math',\n",
              "       'sort', 'encryption', 'encryption', 'encryption', 'encryption',\n",
              "       'encryption', 'encryption', 'math', 'encryption', 'math', 'sort',\n",
              "       'encryption', 'string', 'math', 'encryption', 'encryption', 'sort',\n",
              "       'sort', 'string', 'math', 'math', 'encryption', 'string', 'math',\n",
              "       'math', 'sort', 'sort', 'sort', 'string', 'sort', 'math', 'string',\n",
              "       'sort', 'string', 'sort', 'math', 'sort', 'sort', 'string', 'math',\n",
              "       'encryption', 'sort', 'math', 'encryption', 'math', 'sort', 'math',\n",
              "       'string', 'sort', 'encryption', 'string', 'sort', 'sort', 'math',\n",
              "       'math', 'sort', 'math', 'sort', 'string', 'math', 'string',\n",
              "       'string', 'encryption', 'string', 'sort', 'sort', 'string', 'sort',\n",
              "       'encryption', 'sort', 'math', 'math', 'sort', 'math', 'math',\n",
              "       'sort', 'math', 'sort', 'math', 'sort', 'encryption', 'sort',\n",
              "       'sort', 'sort', 'encryption', 'string', 'sort', 'sort', 'math',\n",
              "       'string', 'string', 'encryption', 'encryption', 'math', 'math',\n",
              "       'math', 'sort', 'sort', 'math', 'string', 'math', 'encryption',\n",
              "       'string', 'sort', 'math', 'math', 'string', 'string', 'encryption',\n",
              "       'string', 'string', 'sort', 'string', 'sort', 'sort', 'math',\n",
              "       'string', 'encryption', 'string', 'sort', 'encryption', 'string',\n",
              "       'encryption', 'encryption', 'math', 'math', 'sort', 'math',\n",
              "       'string', 'math', 'math', 'string', 'math', 'sort', 'math', 'math',\n",
              "       'sort', 'sort', 'string', 'encryption', 'sort', 'string', 'sort',\n",
              "       'math', 'string', 'encryption', 'math', 'sort', 'sort', 'math',\n",
              "       'encryption', 'encryption', 'sort', 'string', 'sort', 'encryption',\n",
              "       'math', 'sort', 'math', 'encryption', 'sort', 'math', 'string',\n",
              "       'sort', 'string', 'encryption', 'string', 'math', 'sort',\n",
              "       'encryption', 'string', 'math', 'math', 'encryption', 'string',\n",
              "       'sort', 'sort', 'sort', 'math', 'string', 'sort', 'string', 'math',\n",
              "       'string', 'string', 'encryption', 'math', 'string', 'string',\n",
              "       'sort', 'math', 'math', 'math', 'math', 'sort', 'encryption',\n",
              "       'math', 'math', 'encryption', 'string', 'sort', 'math', 'math',\n",
              "       'sort', 'math', 'math', 'string', 'string', 'sort', 'encryption',\n",
              "       'sort', 'sort', 'math', 'string', 'math', 'math', 'encryption',\n",
              "       'math', 'string', 'math', 'string', 'sort', 'math', 'math'],\n",
              "      dtype=object)"
            ]
          },
          "metadata": {
            "tags": []
          },
          "execution_count": 15
        }
      ]
    },
    {
      "cell_type": "code",
      "metadata": {
        "colab": {
          "base_uri": "https://localhost:8080/"
        },
        "id": "TLXpxOqDgWb7",
        "outputId": "5d588085-7427-405e-8389-3dcd90cbb615"
      },
      "source": [
        "countMath=0\n",
        "countSort=0\n",
        "countEncryption=0\n",
        "countString=0\n",
        "with open('/content/drive/My Drive/resultBlind.txt','w') as file:\n",
        "  for index in range (0, len(y_pred_new)):\n",
        "\n",
        "    if (y_pred_new[index]=='math'):\n",
        "      countMath = countMath + 1\n",
        "    elif (y_pred_new[index]=='sort'):\n",
        "      countSort = countSort + 1\n",
        "    elif (y_pred_new[index]=='encryption'):\n",
        "      countEncryption = countEncryption + 1\n",
        "    elif (y_pred_new[index]=='string'):\n",
        "      countString = countString + 1\n",
        "\n",
        "\n",
        "    file.write(y_pred_new[index])\n",
        "    file.write('\\n')\n",
        "file.close()\n",
        "\n",
        "print(\"Math :\", countMath)\n",
        "print(\"Sort :\", countSort)\n",
        "print(\"Encryption :\", countEncryption)\n",
        "print(\"String :\", countString)"
      ],
      "execution_count": 16,
      "outputs": [
        {
          "output_type": "stream",
          "text": [
            "Math : 229\n",
            "Sort : 213\n",
            "Encryption : 124\n",
            "String : 191\n"
          ],
          "name": "stdout"
        }
      ]
    }
  ]
}